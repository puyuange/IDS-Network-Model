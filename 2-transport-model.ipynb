{
 "cells": [
  {
   "cell_type": "code",
   "execution_count": 11,
   "metadata": {},
   "outputs": [],
   "source": [
    "# imports\n",
    "\n",
    "import pandas as pd\n",
    "import matplotlib.pyplot as plt\n",
    "import numpy as np\n",
    "import math"
   ]
  },
  {
   "cell_type": "code",
   "execution_count": 12,
   "metadata": {},
   "outputs": [],
   "source": [
    "# Transport Parameters\n",
    "\n",
    "F = 0 # Flow rate (people/day) F=fn\n",
    "f = 60 # Frequency of trip (/day)\n",
    "T = 130 # Duration of travel (minutes)\n",
    "A = 25 * 2.5 * 8 # m^2"
   ]
  },
  {
   "cell_type": "code",
   "execution_count": 13,
   "metadata": {},
   "outputs": [],
   "source": [
    "# Disease Parameters\n",
    "\n",
    "beta = 0.6 # Infection rate - probability of infection given contact\n",
    "c = 0.6 # Infection rate on the coach as a function of T\n",
    "sigma = 1/2 # Incubation rate - rate at which exposed hosts become infected\n",
    "gamma = 1/10 # Recovery rate - rate at which infected hosts recover\n",
    "R = 2 # Longest distance that a large droplet can travel (m)"
   ]
  },
  {
   "cell_type": "code",
   "execution_count": 14,
   "metadata": {},
   "outputs": [],
   "source": [
    "params = {\"infection_rate\": beta, \"transport_infection_rate\": c, \"incubation_rate\": sigma, \"recovery_rate\": gamma, \"infection_radius\": R, \"flow\" : F, \"frequency\" : f, \"duration\" : T, \"area\" : A}"
   ]
  },
  {
   "cell_type": "code",
   "execution_count": 15,
   "metadata": {},
   "outputs": [],
   "source": [
    "# Initial Demographic Values\n",
    "\n",
    "N_A = 10000000\n",
    "N_B = 10000000\n",
    "\n",
    "E_A = 0\n",
    "E_B = 0\n",
    "\n",
    "I_A = 0.05 * N_A\n",
    "I_B = 0\n",
    "\n",
    "R_A = 0\n",
    "R_B = 0\n",
    "\n",
    "S_A = N_A - I_A - E_A - R_A\n",
    "S_B = N_B - I_B - E_B - R_B"
   ]
  },
  {
   "cell_type": "code",
   "execution_count": 16,
   "metadata": {},
   "outputs": [],
   "source": [
    "# SEIR compartments during travel\n",
    "def departures(x, n, params=params):\n",
    "    F = params[\"flow\"]\n",
    "    delta = (x/n) * F\n",
    "    return delta\n",
    "\n",
    "\n",
    "def sei_trans(s, i, params=params):\n",
    "    F = params[\"flow\"]\n",
    "    f = params[\"frequency\"]\n",
    "    R = params[\"infection_radius\"]\n",
    "    A = params[\"area\"]\n",
    "    c = params[\"transport_infection_rate\"]\n",
    "    n = F/f\n",
    "    delta = (np.pi * np.power(R, 2) * i * s * c)/A\n",
    "    return delta"
   ]
  },
  {
   "cell_type": "code",
   "execution_count": 17,
   "metadata": {},
   "outputs": [],
   "source": [
    "# SEIR model\n",
    "def deriv_seir(sa, ea, ia, ra, sb, eb, ib, rb, params=params):\n",
    "    F = params[\"flow\"]\n",
    "    f = params[\"frequency\"]\n",
    "    A = params[\"area\"]\n",
    "    beta = params[\"infection_rate\"]\n",
    "    c = params[\"transport_infection_rate\"]\n",
    "    sigma = params[\"incubation_rate\"]\n",
    "    gamma = params[\"recovery_rate\"]\n",
    "    R = params[\"infection_radius\"]\n",
    "\n",
    "    na = sa + ia + ea + ra\n",
    "    nb = sb + ib + eb + rb\n",
    "\n",
    "    dsa = - (beta * sa * ia)/na - departures(sa, na)\n",
    "    dea = (beta * sa * ia)/na - sigma * ea - departures(ea, na)\n",
    "    dia = sigma * ea - gamma * ia - departures(ia, na)\n",
    "    dra = gamma * ia - departures(ra, na)\n",
    "\n",
    "    S = departures(sa,na)\n",
    "    I = departures(ia,na)\n",
    "    delta = sei_trans(S, I)\n",
    "\n",
    "    dsb = - (beta * sb * ib)/nb + departures(sa, na) - delta\n",
    "    deb = (beta * sb * ib)/nb - sigma * eb + departures(ea, na) + delta\n",
    "    dib = sigma * eb - gamma * ib + departures(ia, na)\n",
    "    drb = gamma * ib + departures(ra, na)\n",
    "    \n",
    "    # Change\n",
    "    sa += dsa\n",
    "    ea += dea\n",
    "    ia += dia\n",
    "    ra += dra\n",
    "\n",
    "    sb += dsb\n",
    "    eb += deb\n",
    "    ib += dib\n",
    "    rb += drb\n",
    "\n",
    "    return [sa, ea, ia, ra, sb, eb, ib, rb]"
   ]
  },
  {
   "cell_type": "code",
   "execution_count": 18,
   "metadata": {},
   "outputs": [
    {
     "name": "stdout",
     "output_type": "stream",
     "text": [
      "     t           S_A            E_A            I_A           R_A         S_B  \\\n",
      "0    0  9.500000e+06       0.000000  500000.000000  0.000000e+00  10000000.0   \n",
      "1    1  9.215000e+06  285000.000000  450000.000000  5.000000e+04  10000000.0   \n",
      "2    2  8.966195e+06  391305.000000  547500.000000  9.500000e+04  10000000.0   \n",
      "3    3  8.671655e+06  490192.005750  688402.500000  1.497500e+05  10000000.0   \n",
      "4    4  8.313480e+06  603271.362158  864658.252875  2.185902e+05  10000000.0   \n",
      "..  ..           ...            ...            ...           ...         ...   \n",
      "75  75  1.268697e+04      30.657945   16103.290792  9.971179e+06  10000000.0   \n",
      "76  76  1.267471e+04      27.587092   14508.290685  9.972789e+06  10000000.0   \n",
      "77  77  1.266368e+04      24.826851   13071.255163  9.974240e+06  10000000.0   \n",
      "78  78  1.265375e+04      22.345237   11776.543072  9.975547e+06  10000000.0   \n",
      "79  79  1.264481e+04      20.113663   10610.061383  9.976725e+06  10000000.0   \n",
      "\n",
      "    E_B  I_B  R_B         N_A         N_B  \n",
      "0   0.0  0.0  0.0  10000000.0  10000000.0  \n",
      "1   0.0  0.0  0.0  10000000.0  10000000.0  \n",
      "2   0.0  0.0  0.0  10000000.0  10000000.0  \n",
      "3   0.0  0.0  0.0  10000000.0  10000000.0  \n",
      "4   0.0  0.0  0.0  10000000.0  10000000.0  \n",
      "..  ...  ...  ...         ...         ...  \n",
      "75  0.0  0.0  0.0  10000000.0  10000000.0  \n",
      "76  0.0  0.0  0.0  10000000.0  10000000.0  \n",
      "77  0.0  0.0  0.0  10000000.0  10000000.0  \n",
      "78  0.0  0.0  0.0  10000000.0  10000000.0  \n",
      "79  0.0  0.0  0.0  10000000.0  10000000.0  \n",
      "\n",
      "[80 rows x 11 columns]\n"
     ]
    }
   ],
   "source": [
    "# Iterate\n",
    "rowlist = []\n",
    "for i in range(0, 80):\n",
    "    # Record\n",
    "    row = {\"t\": i, \"S_A\": S_A, \"E_A\": E_A, \"I_A\": I_A, \"R_A\": R_A, \"S_B\": S_B, \"E_B\": E_B, \"I_B\": I_B, \"R_B\": R_B}\n",
    "    rowlist.append(row)\n",
    "\n",
    "    # Change\n",
    "    vals = deriv_seir(S_A, E_A, I_A, R_A, S_B, E_B, I_B, R_B)\n",
    "    S_A = vals[0]\n",
    "    E_A = vals[1]\n",
    "    I_A = vals[2]\n",
    "    R_A = vals[3]\n",
    "    S_B = vals[4]\n",
    "    E_B = vals[5]\n",
    "    I_B = vals[6]\n",
    "    R_B = vals[7]\n",
    "\n",
    "df = pd.DataFrame(rowlist)\n",
    "df[\"N_A\"] = df[\"S_A\"] + df[\"E_A\"] + df[\"I_A\"] + df[\"R_A\"]\n",
    "df[\"N_B\"] = df[\"S_B\"] + df[\"E_B\"] + df[\"I_B\"] + df[\"R_B\"]\n",
    "print(df)"
   ]
  },
  {
   "cell_type": "code",
   "execution_count": 19,
   "metadata": {},
   "outputs": [
    {
     "data": {
      "image/png": "[encoded data removed]",
      "text/plain": [
       "<Figure size 432x288 with 2 Axes>"
      ]
     },
     "metadata": {
      "needs_background": "light"
     },
     "output_type": "display_data"
    }
   ],
   "source": [
    "# Plot\n",
    "\n",
    "fig, (ax1, ax2) = plt.subplots(2, 1, sharex=True)\n",
    "\n",
    "ax2.set_xlabel(\"time (days)\")\n",
    "ax1.set_ylabel(\"number\")\n",
    "ax2.set_ylabel(\"number\")\n",
    "\n",
    "ax1.plot(df[\"t\"], df[\"S_A\"], color=\"blue\", label=\"S_A\")\n",
    "ax1.plot(df[\"t\"], df[\"E_A\"], color=\"orange\", label=\"E_A\")\n",
    "ax1.plot(df[\"t\"], df[\"I_A\"], color=\"red\", label=\"I_A\")\n",
    "ax1.plot(df[\"t\"], df[\"R_A\"], color=\"green\", label=\"R_A\")\n",
    "ax1.plot(df[\"t\"], df[\"N_A\"], color=\"black\", label=\"N_A\")\n",
    "ax1.legend(loc=\"upper right\", ncol=5)\n",
    "\n",
    "ax2.plot(df[\"t\"], df[\"S_B\"], color=\"blue\", label=\"S_B\")\n",
    "ax2.plot(df[\"t\"], df[\"E_B\"], color=\"orange\", label=\"E_B\")\n",
    "ax2.plot(df[\"t\"], df[\"I_B\"], color=\"red\", label=\"I_B\")\n",
    "ax2.plot(df[\"t\"], df[\"R_B\"], color=\"green\", label=\"R_B\")\n",
    "ax2.plot(df[\"t\"], df[\"N_B\"], color=\"black\", label=\"N_B\")\n",
    "ax2.legend(loc=\"upper right\", ncol=5)\n",
    "\n",
    "plt.show()\n"
   ]
  }
 ],
 "metadata": {
  "kernelspec": {
   "display_name": "Python 3",
   "language": "python",
   "name": "python3"
  },
  "language_info": {
   "codemirror_mode": {
    "name": "ipython",
    "version": 3
   },
   "file_extension": ".py",
   "mimetype": "text/x-python",
   "name": "python",
   "nbconvert_exporter": "python",
   "pygments_lexer": "ipython3",
   "version": "3.8.3"
  }
 },
 "nbformat": 4,
 "nbformat_minor": 2
}
